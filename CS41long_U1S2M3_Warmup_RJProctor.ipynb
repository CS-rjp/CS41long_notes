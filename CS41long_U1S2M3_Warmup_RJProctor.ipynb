{
  "nbformat": 4,
  "nbformat_minor": 0,
  "metadata": {
    "colab": {
      "name": "CS41long_U1S2M3_Warmup_RJProctor.ipynb",
      "provenance": [],
      "collapsed_sections": []
    },
    "kernelspec": {
      "name": "python3",
      "display_name": "Python 3"
    }
  },
  "cells": [
    {
      "cell_type": "markdown",
      "metadata": {
        "id": "tMWJn6hGazAr"
      },
      "source": [
        "**The Stack**"
      ]
    },
    {
      "cell_type": "markdown",
      "metadata": {
        "id": "5fiX690kuqfz"
      },
      "source": [
        "What is the CPU stack?\r\n",
        "\r\n",
        "* standard PUSH and POP operations\r\n",
        "* data stored in RAM\r\n",
        "* stack pointer keeps track of address ot the top of the stack\r\n",
        "* stack grows downward from higher memory address\r\n",
        "  * hopefully the stack pointer allows us track and keep memory assignments from colliding\r\n",
        "  * if collisions occur, this is known as stack overflow\r\n",
        "\r\n",
        "PUSH\r\n",
        "\r\n",
        "* stack address points at an index in the memory array\r\n",
        "* decrement the stack pointer\r\n",
        "* place the value selected by the push command into memory at the decremented address the stack pointer is pointing to\r\n",
        "\r\n",
        "POP\r\n",
        "\r\n",
        "* value at the stack pointer is copied into available register[i]\r\n",
        "* increment stack pointer\r\n",
        "\r\n",
        "\r\n",
        "How is a CPU stack used?\r\n",
        "\r\n",
        "* temporarily store variables\r\n",
        "  * complex mathmatical functions\r\n",
        "* return address from subroutines\r\n",
        "  * call/return instructions\r\n",
        "* storage of state (registers and CPU) while handling an interupts\r\n",
        "* allocation of local variables for a subroutine\r\n",
        "\r\n",
        "\r\n",
        "Why is the CPU stack important?\r\n",
        "\r\n",
        "* Efficient computation of complex arithmetic expressions. \r\n",
        "* Execution of instructions is fast because operand data are stored in consecutive memory locations. \r\n",
        "* Length of instruction is short as they do not have address field.\r\n",
        "\r\n",
        "\r\n"
      ]
    },
    {
      "cell_type": "markdown",
      "metadata": {
        "id": "SaoEQqbTazFC"
      },
      "source": [
        "1. What happens if you PUSH too many items on the stack?\r\n",
        "\r\n",
        "An attempt to push too many items onto a stack causes stack overflow . And an attempt to pop items off the stack beyond the “bottom” causes stack underflow . A stack is typically implemented by dedicating a contiguous area of memory to it.\r\n"
      ]
    },
    {
      "cell_type": "markdown",
      "metadata": {
        "id": "G1uKiQSYazJy"
      },
      "source": [
        "2. What happens if you POP from an empty stack?\r\n",
        "\r\n",
        "The Pop() method returns the last element and removes it from a stack. If a stack is empty, then it will throw the InvalidOperationException . So, always check for the number of elements in a stack before calling the Pop() method.\r\n"
      ]
    },
    {
      "cell_type": "markdown",
      "metadata": {
        "id": "t6dOeo9cazOk"
      },
      "source": [
        "3. How can you detect if the stack is empty?\r\n",
        "\r\n",
        "* getSize() - Get the number of items in the stack. \r\n",
        "* isEmpty() – Return True if the stack is empty, False otherwise. \r\n",
        "* peek() – Return the top item in the stack. If the stack is empty, raise an exception.\r\n"
      ]
    },
    {
      "cell_type": "markdown",
      "metadata": {
        "id": "kqRJJsxsulAW"
      },
      "source": [
        "4. What information must be saved on the stack when the CPU is servicing an interrupt? Why?\r\n",
        "\r\n",
        "When an Interrupt is accepted, current state information is saved by pushing it on a stack. It does this so that execution can be resumed from the same point at a later time."
      ]
    }
  ]
}
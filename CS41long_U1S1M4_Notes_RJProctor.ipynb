{
  "nbformat": 4,
  "nbformat_minor": 0,
  "metadata": {
    "colab": {
      "name": "CS41long_U1S1M4_Notes_RJProctor.ipynb",
      "provenance": [],
      "collapsed_sections": []
    },
    "kernelspec": {
      "name": "python3",
      "display_name": "Python 3"
    }
  },
  "cells": [
    {
      "cell_type": "markdown",
      "metadata": {
        "id": "OMeeiX5hGv7D"
      },
      "source": [
        "BFT with Path\r\n"
      ]
    },
    {
      "cell_type": "code",
      "metadata": {
        "id": "-onr1C_pGvRn"
      },
      "source": [
        "def get_all_social_paths(self, user_id):\r\n",
        "        \"\"\"\r\n",
        "        Takes a user's user_id as an argument\r\n",
        "\r\n",
        "        Returns a dictionary containing every user in that user's\r\n",
        "        extended network with the shortest friendship path between them.\r\n",
        "\r\n",
        "        The key is the friend's ID and the value is the path.\r\n",
        "        \"\"\"\r\n",
        "        visited = {}  # Note that this is a dictionary, not a set\r\n",
        "        # !!!! IMPLEMENT ME\r\n",
        "        # bft with path\r\n",
        "        # create empty queue\r\n",
        "        q = Queue()\r\n",
        "\r\n",
        "        # enqueue first path\r\n",
        "        q.enqueue((user_id))\r\n",
        "\r\n",
        "        # while the queue is not empty\r\n",
        "        while q.size() > 0:\r\n",
        "\r\n",
        "            # dequeue the path\r\n",
        "            path = q.dequeue()\r\n",
        "\r\n",
        "            # get last item in path - set as\r\n",
        "            # a variable\r\n",
        "            # set a newuser_id to the last element in the path [-1]\r\n",
        "            newuser_ide = path[-1]\r\n",
        "            # check if visited - if friend_id not in visited[newuser_id]:\r\n",
        "            if newuser_id not in visited:\r\n",
        "                # set visited[newuser_id]=Path\r\n",
        "                visited[newuser_id] = path\r\n",
        "                # for each friend_id in friendships[newuser_id]:\r\n",
        "                for friend_id in self.friendships[newuser_id]:\r\n",
        "                  # copy the Path as newPath\r\n",
        "                  new_path = path.copy()\r\n",
        "                  # append friend_id to newPath\r\n",
        "                  new_path.append(newuser_id)\r\n",
        "                  # enqueue newPath\r\n",
        "                  q.enqueue(new_path)\r\n",
        "      \r\n",
        "        return visited\r\n"
      ],
      "execution_count": 2,
      "outputs": []
    },
    {
      "cell_type": "markdown",
      "metadata": {
        "id": "d3oXzTsLGwkQ"
      },
      "source": [
        "Tracking Collisions using linear paths"
      ]
    },
    {
      "cell_type": "code",
      "metadata": {
        "id": "l242IaHVGw6W"
      },
      "source": [
        "    def populate_graph_linear(self, num_users, avg_friendships):\r\n",
        "        \"\"\"\r\n",
        "        Takes a number of users and an average number of friendships\r\n",
        "        as arguments\r\n",
        "\r\n",
        "        Creates that number of users and a randomly distributed friendships\r\n",
        "        between those users.\r\n",
        "\r\n",
        "        The number of users must be greater than the average number of friendships.\r\n",
        "\r\n",
        "\r\n",
        "        ***for use with sparse graphs***\r\n",
        "\r\n",
        "        \"\"\"\r\n",
        "        # Reset graph\r\n",
        "        self.last_id = 0\r\n",
        "        self.users = {}\r\n",
        "        self.friendships = {}\r\n",
        "        # !!!! IMPLEMENT ME\r\n",
        "\r\n",
        "        # Add users\r\n",
        "        for i in range(0, num_users):\r\n",
        "            self.add_user(f'User {i+1}')\r\n",
        "        \r\n",
        "        # Create friendships\r\n",
        "        # generate all possible friendships\r\n",
        "        # create a list of possible friendships\r\n",
        "        total_friendships = []\r\n",
        "        collisions = 0\r\n",
        "        target_friendships = (num_users * avg_friendships)\r\n",
        "\r\n",
        "        # utilize random library\r\n",
        "        while total_friendships < target_friendships:\r\n",
        "            user_id = random.randint(1, self.last_id)\r\n",
        "            friend_id = random.randint(1, self.last_id)\r\n",
        "            if self.add_friendship(user_id, friend_id):\r\n",
        "                total_friendships += 2\r\n",
        "            else:\r\n",
        "                collisions += 1\r\n",
        "        \r\n",
        "        print(f'COLLISIONS: {collisions}')\r\n"
      ],
      "execution_count": null,
      "outputs": []
    },
    {
      "cell_type": "markdown",
      "metadata": {
        "id": "TciKucV9nabK"
      },
      "source": [
        "Time testing for performance (collisions)\r\n"
      ]
    },
    {
      "cell_type": "code",
      "metadata": {
        "id": "CMU_OhNUngkF"
      },
      "source": [
        "if __name__ == '__main__':   \r\n",
        "    num_users = 200\r\n",
        "    avg_friendships = 100\r\n",
        "\r\n",
        "    start_time = time.time()\r\n",
        "    sg.populate_graph(num_users, avg_friendships)   \r\n",
        "    end_time = time.time()\r\n",
        "    print(f'Quadratic Runtime: {end_time - start_time} sec')\r\n",
        "    \r\n",
        "    \r\n",
        "    start_time = time.time()\r\n",
        "    sg.populate_graph_linear(num_users, avg_friendships)\r\n",
        "    end_time = time.time()\r\n",
        "    print(f'Linear Runtime: {end_time - start_time} sec')\r\n",
        "\r\n",
        "    # sg = SocialGraph()\r\n",
        "    # sg.populate_graph(10, 2) \r\n",
        "    # print(sg.friendships)\r\n",
        "    # connections = sg.get_all_social_paths(1)\r\n",
        "    # print(connections)\r\n"
      ],
      "execution_count": null,
      "outputs": []
    }
  ]
}
{
  "nbformat": 4,
  "nbformat_minor": 0,
  "metadata": {
    "colab": {
      "name": "CS41long_U1S2M4_Warmup_RJProctor.ipynb",
      "provenance": [],
      "collapsed_sections": []
    },
    "kernelspec": {
      "name": "python3",
      "display_name": "Python 3"
    }
  },
  "cells": [
    {
      "cell_type": "markdown",
      "metadata": {
        "id": "tMWJn6hGazAr"
      },
      "source": [
        "**Subroutines**\r\n",
        "\r\n",
        "What are subroutines?\r\n",
        "\r\n",
        "At the assembly level, functions are implemented using a simple call/return mechanism that is commonly referred to as a subroutine.\r\n",
        "\r\n",
        "How are they used?\r\n",
        "\r\n",
        "CALL\r\n",
        "* at a particular address\r\n",
        "* use stack to store return address so we know where to go when we hit return instruction\r\n",
        "* will push the address of instruction after the call on the stack, then move to the PC to the subroutine address \r\n",
        "\r\n",
        "RETURN\r\n",
        "* when we encounter the return instruction we will pop the return address off the top of the stack and stor it in the PC\r\n",
        "* so the subroutine to pick up where we left off\r\n",
        "\r\n",
        "\r\n",
        "CPUs limitations:\r\n",
        "* no arguments\r\n",
        "* cannot return values\r\n",
        "* use stack\r\n",
        "\r\n",
        "\r\n",
        "How do higher level languages use them to implement the concept of a function?  \r\n",
        "They allow us to reuse code instead of rewriting it and also add in the functionality of sub-steps.\r\n",
        "\r\n",
        "In high-level programming languages, the specifics of the call stack are usually hidden from the programmer. They are given access only to a set of functions, and not the memory on the stack itself. This is an example of abstraction. Most assembly languages, on the other hand, require programmers to be involved with manipulating the stack. The actual details of the stack in a programming language depend upon the compiler, operating system, and the available instruction set.\r\n",
        "\r\n",
        "\r\n",
        "\r\n"
      ]
    },
    {
      "cell_type": "markdown",
      "metadata": {
        "id": "SaoEQqbTazFC"
      },
      "source": [
        "1. Why is the stack used to store the return address? \r\n",
        "\r\n",
        "\r\n",
        "```\r\n",
        "As each subroutine is called the machine saves the return address\r\n",
        "of the calling program on a stack. This ensures that subroutine\r\n",
        "returns are processed in the reverse order of subroutine calls,\r\n",
        "which is the desired operation.\r\n",
        "```\r\n",
        "\r\n"
      ]
    },
    {
      "cell_type": "markdown",
      "metadata": {
        "id": "G1uKiQSYazJy"
      },
      "source": [
        "2. Why not just a single register or memory location?\r\n",
        "\r\n",
        "\r\n",
        "```\r\n",
        "Using a stack to save the return address has important advantages\r\n",
        "over alternative calling conventions. One is that each task\r\n",
        "can have its own stack, and thus the subroutine can be thread-safe,\r\n",
        "that is, can be active simultaneously for different tasks\r\n",
        "doing different things. Another benefit is that by providing\r\n",
        "reentrancy, recursion is automatically supported. When a\r\n",
        "function calls itself recursively, a return address needs to be\r\n",
        "stored for each activation of the function so that it can later be\r\n",
        "used to return from the function activation. Stack structures\r\n",
        "provide this capability automatically.\r\n",
        "```\r\n",
        "\r\n"
      ]
    },
    {
      "cell_type": "markdown",
      "metadata": {
        "id": "t6dOeo9cazOk"
      },
      "source": [
        "3. How might the idea of local variables for the subroutine be implemented using the stack?\r\n",
        "\r\n",
        "\r\n",
        "```\r\n",
        "A subroutine frequently needs memory space for storing the\r\n",
        "values of local variables, the variables that are known only\r\n",
        "within the active subroutine and do not retain values after it\r\n",
        "returns. It is often convenient to allocate space for this use by\r\n",
        "simply moving the top of the stack by enough to provide the space.\r\n",
        "This is very fast when compared to dynamic memory allocation, which\r\n",
        "uses the heap space. Note that each separate activation of a\r\n",
        "subroutine gets its own separate space in the stack for locals.\r\n",
        "```\r\n",
        "\r\n"
      ]
    },
    {
      "cell_type": "markdown",
      "metadata": {
        "id": "N8EKrkAoHBBP"
      },
      "source": [
        "4. Think of two ways that arguments could be passed to subroutines.\r\n",
        "\r\n",
        "```\r\n",
        "Subroutines often require that values for parameters be supplied\r\n",
        "to them by the code which calls them, and it is not uncommon that\r\n",
        "space for these parameters may be laid out in the call stack.\r\n",
        "Generally if there are only a few small parameters, processor\r\n",
        "registers will be used to pass the values, but if there are more\r\n",
        "parameters than can be handled this way, memory space will be\r\n",
        "needed. The call stack works well as a place for these parameters,\r\n",
        "especially since each call to a subroutine, which will have\r\n",
        "differing values for parameters, will be given separate space on\r\n",
        "the call stack for those values.\r\n",
        "```\r\n",
        "\r\n"
      ]
    }
  ]
}
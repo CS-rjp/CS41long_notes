{
  "nbformat": 4,
  "nbformat_minor": 0,
  "metadata": {
    "colab": {
      "name": "CS41long_U1S1M2_Warmup_RJProctor",
      "provenance": [],
      "collapsed_sections": []
    },
    "kernelspec": {
      "name": "python3",
      "display_name": "Python 3"
    }
  },
  "cells": [
    {
      "cell_type": "markdown",
      "metadata": {
        "id": "sm0KVbgx7hmv"
      },
      "source": [
        "Inheritance\r\n",
        "\r\n",
        "When you use inheritance to create your new class, you can use all the code from the old class (copying none of it) and you can also add the additional functionality you need.\r\n",
        "\r\n",
        "In the new class, we only need to define what we add or change from the old class. We call the original class either the parent, superclass, or base class. We call the new class the child, subclass, or derived class."
      ]
    },
    {
      "cell_type": "code",
      "metadata": {
        "id": "QE4zcQ6GgrmZ"
      },
      "source": [
        "# parent class\r\n",
        "class Bicycle():\r\n",
        "  pass\r\n",
        "\r\n",
        "# child class is created by passing Bicycle class into\r\n",
        "# the Specialzed class\r\n",
        "# Specialized class will inherit whatever Bicycle class can do\r\n",
        "class Specialized(Bicycle):\r\n",
        "  pass\r\n",
        "\r\n",
        "# driver code\r\n",
        "a_bike = Bicycle()\r\n",
        "a_specialized = Specialized()\r\n",
        "\r\n"
      ],
      "execution_count": null,
      "outputs": []
    },
    {
      "cell_type": "markdown",
      "metadata": {
        "id": "jZrP_FmM7h2P"
      },
      "source": [
        "In this example, both these classes are useless unless we add to our code:\r\n"
      ]
    },
    {
      "cell_type": "code",
      "metadata": {
        "colab": {
          "base_uri": "https://localhost:8080/"
        },
        "id": "NIHtbsNF7iUp",
        "outputId": "a760b280-1f59-4598-e052-ae2d0a730835"
      },
      "source": [
        "class Bicycle():\r\n",
        "  def exclaim(self):\r\n",
        "    print(\"I'm a Bicycle!\")\r\n",
        "\r\n",
        "class Specialized(Bicycle):\r\n",
        "  pass\r\n",
        "\r\n",
        "# driver code\r\n",
        "a_bike = Bicycle()\r\n",
        "a_specialized = Specialized()\r\n",
        "a_bike.exclaim()\r\n",
        "# I'm a Bicycle!\r\n"
      ],
      "execution_count": null,
      "outputs": [
        {
          "output_type": "stream",
          "text": [
            "I'm a Bicycle!\n"
          ],
          "name": "stdout"
        }
      ]
    },
    {
      "cell_type": "markdown",
      "metadata": {
        "id": "q1-1a7Sa7h5W"
      },
      "source": [
        "Now, Any instance of the Specialized class has access to the methods on the parent class Bicycle.\r\n",
        "\r\n"
      ]
    },
    {
      "cell_type": "markdown",
      "metadata": {
        "id": "AvTagdtT7h9Z"
      },
      "source": [
        "**Overriding**\r\n",
        "\r\n",
        "If we override the exclaim method, an instance of Specialized will tell us what it is..."
      ]
    },
    {
      "cell_type": "code",
      "metadata": {
        "colab": {
          "base_uri": "https://localhost:8080/"
        },
        "id": "AN5825mJ7iX_",
        "outputId": "75d2b963-6ada-4b76-fee4-8b9420166513"
      },
      "source": [
        "class Bicycle():\r\n",
        "  def exclaim(self):\r\n",
        "    print(\"I'm a Bicycle!\")\r\n",
        "\r\n",
        "\r\n",
        "class Specialized(Bicycle):\r\n",
        "  def exclaim(self):\r\n",
        "    print(\"I'm Specialized!  I'm a more specialized version of a Bicycle!\")\r\n",
        "\r\n",
        "\r\n",
        "a_bike = Bicycle()\r\n",
        "a_specialized = Specialized()\r\n",
        "a_bike.exclaim()\r\n",
        "a_specialized.exclaim()\r\n",
        "# I'm a Bicycle!\r\n",
        "# I'm Specialized!  I'm a more specialized version of a Bicycle!\r\n"
      ],
      "execution_count": null,
      "outputs": [
        {
          "output_type": "stream",
          "text": [
            "I'm a Bicycle!\n",
            "I'm Specialized!  I'm a more specialized version of a Bicycle!\n"
          ],
          "name": "stdout"
        }
      ]
    },
    {
      "cell_type": "markdown",
      "metadata": {
        "id": "k2kYZDz5knqQ"
      },
      "source": [
        "**Using *Super*** \r\n",
        "\r\n",
        "Calling the Parent Method\r\n",
        "\r\n",
        "1.   create a Student parent class\r\n",
        "2.   create a Graduate child class that inherits everthing in the parent class but also needs to hold a graduation_date\r\n",
        "\r\n"
      ]
    },
    {
      "cell_type": "code",
      "metadata": {
        "colab": {
          "base_uri": "https://localhost:8080/"
        },
        "id": "lSEjr1gs7ico",
        "outputId": "5a867af9-80c9-464e-bb42-0c404ca728e0"
      },
      "source": [
        "class Student():\r\n",
        "  def __init__(self, name):\r\n",
        "    self.name = name\r\n",
        "\r\n",
        "\r\n",
        "class Graduate(Student):\r\n",
        "  def __init__(self, name, graduation_date):\r\n",
        "    \"\"\"\r\n",
        "    overides __init__ method in Student\r\n",
        "    while using Student portion of child class to run initialiation\r\n",
        "    when instantiating a Graduate instance\r\n",
        "    \"\"\"\r\n",
        "    super().__init__(name)\r\n",
        "      # note: argument self is passed to parent class automatically\r\n",
        "    self.graduation_date = graduation_date\r\n",
        "\r\n",
        "\r\n",
        "john_lennon = Graduate('John Lennon', 'December 8, 1980')\r\n",
        "print(john_lennon.name)\r\n",
        "print(john_lennon.graduation_date)\r\n",
        "# John Lennon\r\n",
        "# December 8, 1980\r\n"
      ],
      "execution_count": null,
      "outputs": [
        {
          "output_type": "stream",
          "text": [
            "John Lennon\n",
            "December 8, 1980\n"
          ],
          "name": "stdout"
        }
      ]
    },
    {
      "cell_type": "markdown",
      "metadata": {
        "id": "9VAggIsqkoI6"
      },
      "source": [
        "**Class Association**\r\n",
        "\r\n",
        "What types of relationship exhist in inheritance?\r\n",
        "\r\n",
        "\r\n",
        "1.   **is_a** \r\n",
        "\r\n",
        "\r\n",
        "*   parent/child\r\n",
        "  * more general parent class is created to define shared attributes & behaviors\r\n",
        "  * more specific child class is used for unique details\r\n",
        "*   type/subtype\r\n",
        "\r\n",
        "Ex. Restraurant Mgmt Syst\r\n",
        "\r\n",
        "A chef is an employee\r\n",
        "A waiter is an emplyee\r\n",
        "\r\n",
        "\r\n",
        "2.   **has_a**\r\n",
        "\r\n",
        "*   there is a link between two classes\r\n",
        "*   Composition\r\n",
        "  * class A CANNOT exist without class B\r\n",
        "*   Aggregation\r\n",
        "  * class A CAN exist independently of class B\r\n",
        "\r\n",
        "Ex. Restraurant Mgmt Syst\r\n",
        "\r\n",
        "If the resaurant disappeared there would be no employees, no menues, etc. (composition)\r\n",
        "\r\n",
        "There are several different drinks that are available with or without a menu (off menu items). (aggregation)\r\n",
        "\r\n",
        "\r\n",
        ">*We can define association reltionships between classes by creating attributes within class A that are instances of class B.*\r\n",
        "\r\n",
        "\r\n",
        "\r\n",
        "\r\n",
        "\r\n"
      ]
    },
    {
      "cell_type": "code",
      "metadata": {
        "colab": {
          "base_uri": "https://localhost:8080/",
          "height": 144
        },
        "id": "AcVrQGms7ih9",
        "outputId": "bd034987-ed3d-49e9-ea5c-bc191666bf75"
      },
      "source": [
        "class Restuarant:\r\n",
        "  def __init__(self, name, staff, dinner_menu):\r\n",
        "    self.name = name\r\n",
        "    self.staff = Employees[]\r\n",
        "      # has_an \r\n",
        "    self.dinner_menu = Menu()\r\n",
        "      # has_a  \r\n",
        "\r\n",
        "  # class functions would be entered here...\r\n",
        "  class Employee:\r\n",
        "    def __init__(self, name, wage):\r\n",
        "      self.name = name\r\n",
        "      self.wage = wage\r\n",
        "\r\n",
        "    def cal_pay(self, hours):\r\n",
        "      return self.wage * hours\r\n",
        "\r\n",
        "  class Menu:\r\n",
        "    def __init__(self, name):\r\n",
        "      self.name = name\r\n",
        "      self.dishes = Food[]\r\n",
        "      self.drinks = Drink[]\r\n",
        "\r\n",
        "    def add_item(self, item):\r\n",
        "      pass\r\n",
        "\r\n",
        "    class Food:\r\n",
        "      def __init__(self, is_vegetarian=False):\r\n",
        "        self.name = name\r\n",
        "        self.is_vegetarian = is_vegetarian\r\n",
        "\r\n",
        "    class Drink:\r\n",
        "      def __init__(self, name):\r\n",
        "        pass\r\n"
      ],
      "execution_count": null,
      "outputs": [
        {
          "output_type": "error",
          "ename": "SyntaxError",
          "evalue": "ignored",
          "traceback": [
            "\u001b[0;36m  File \u001b[0;32m\"<ipython-input-9-7f87eae79380>\"\u001b[0;36m, line \u001b[0;32m4\u001b[0m\n\u001b[0;31m    self.staff = Employees[]\u001b[0m\n\u001b[0m                           ^\u001b[0m\n\u001b[0;31mSyntaxError\u001b[0m\u001b[0;31m:\u001b[0m invalid syntax\n"
          ]
        }
      ]
    },
    {
      "cell_type": "markdown",
      "metadata": {
        "id": "dsG8haFmGHpx"
      },
      "source": [
        "**Composition**\r\n",
        "\r\n",
        "when we collect several objects together to create a new one\r\n",
        "\r\n",
        "has_a relationship\r\n",
        "\r\n",
        "Ex. A Duck is composed of a Tail, Bill, Eyes, Feet, etc.\r\n"
      ]
    },
    {
      "cell_type": "code",
      "metadata": {
        "colab": {
          "base_uri": "https://localhost:8080/"
        },
        "id": "qBEtfZNaAmCf",
        "outputId": "55d8a99a-a9a1-4696-f1e4-58d7d9912826"
      },
      "source": [
        "class Bill():\r\n",
        "  def __init__(self, description):\r\n",
        "    self.description = description\r\n",
        "\r\n",
        "\r\n",
        "class Tail():\r\n",
        "  def __init__(self, length):\r\n",
        "    self.length = length\r\n",
        "\r\n",
        "\r\n",
        "class Duck():\r\n",
        "  def __init__(self, bill, tail):\r\n",
        "    self.bill = bill\r\n",
        "    self.tail = tail\r\n",
        "\r\n",
        "  def about(self):\r\n",
        "    print(f'This duck has a {self.bill.description} bill and a {self.tail.length} tail. ')\r\n",
        "\r\n",
        "\r\n",
        "\r\n",
        "duck = Duck(Bill('wide, orange'), Tail('long'))\r\n",
        "duck.about()\r\n",
        "# This duck has a wide orange bill and a long tail. ')\r\n"
      ],
      "execution_count": null,
      "outputs": [
        {
          "output_type": "stream",
          "text": [
            "This duck has a wide, orange bill and a long tail. \n"
          ],
          "name": "stdout"
        }
      ]
    },
    {
      "cell_type": "markdown",
      "metadata": {
        "id": "8vFYL4feIPvi"
      },
      "source": [
        "**Aggregation**\r\n",
        "\r\n",
        "Aggregation is almost exactly like composition. The difference is that aggregate objects can exist independently. It would be impossible for a bill to be associated with a different duck. But what if there was a Tag or Feathers class? A Duck could have a tag or feathers, and, unlike a Bill or Tail, the tag or feathers could exist independently from the Duck.\r\n",
        "\r\n",
        "Another way to differentiate between aggregation and composition is to consider the object's lifespan. If the outside object (Duck in this example) controls when the inside objects are created and destroyed (like Bill or Tail), composition is most suitable. If the related object (like tag or feathers) can outlast the composition object (Duck in this example), then an aggregate relationship makes more sense.\r\n",
        "\r\n",
        "\r\n"
      ]
    }
  ]
}
{
  "nbformat": 4,
  "nbformat_minor": 0,
  "metadata": {
    "colab": {
      "name": "CS41long_U1S1M1_Warmup_RJProctor",
      "provenance": [],
      "collapsed_sections": []
    },
    "kernelspec": {
      "name": "python3",
      "display_name": "Python 3"
    }
  },
  "cells": [
    {
      "cell_type": "markdown",
      "metadata": {
        "id": "6BiiFBpjr1dH"
      },
      "source": [
        "The Four Pillars of OOP\r\n",
        "The four pillars of OOP are:\r\n",
        "\r\n",
        "1. Encapsulation\r\n",
        "hiding the implementation details of an object is called encapsulation.\r\n",
        "2. Abstraction\r\n",
        "Abstraction means dealing with the level of detail that is most appropriate to a task. It is important to remember that the objects in our program are not real objects; they are models of objects.\r\n",
        "3. Inheritence\r\n",
        "Inheritance is like a family tree. A person could say that they inherited their last name and their brown eyes from their grandfather. Similarly, inheritance allows our object classes to inherit attributes and methods from other classes in the program.\r\n",
        "4. Polymorphism\r\n",
        "Polymorphism is the ability to treat a class differently depending on which subclass is implemented.\r\n",
        "\r\n",
        "\r\n"
      ]
    },
    {
      "cell_type": "markdown",
      "metadata": {
        "id": "S0NWbZCv0gQi"
      },
      "source": [
        "**Create a User Class**\r\n",
        "\r\n",
        "this will serve as our base User class that all user types will inherit from. We now need to define three more classes, one for each user type:"
      ]
    },
    {
      "cell_type": "code",
      "metadata": {
        "id": "BvXvr9Srhb1k"
      },
      "source": [
        "class User:\r\n",
        "    def __init__(self, name, is_admin=False):\r\n",
        "        self.name = name\r\n",
        "        self.is_admin = is_admin\r\n",
        "\r\n",
        "class Admin(User):\r\n",
        "    def __init__(self, name):\r\n",
        "        super().__init__(name, is_admin=True)\r\n",
        "\r\n",
        "class Customer(User):\r\n",
        "    def __init__(self, name):\r\n",
        "        super().__init__(name)\r\n",
        "        self.purchases = []\r\n",
        "\r\n",
        "class Vendor(User):\r\n",
        "    def __init__(self, name):\r\n",
        "        super().__init__(name)\r\n",
        "        self.products = []"
      ],
      "execution_count": null,
      "outputs": []
    },
    {
      "cell_type": "markdown",
      "metadata": {
        "id": "4zqnBbHOS1V-"
      },
      "source": [
        "objects we are still missing are for a product and a purchase:"
      ]
    },
    {
      "cell_type": "code",
      "metadata": {
        "id": "B9f6ik7f0faf"
      },
      "source": [
        "from datetime import datetime\r\n",
        "\r\n",
        "class User:\r\n",
        "    def __init__(self, name, is_admin=False):\r\n",
        "        self.name = name\r\n",
        "        self.is_admin = is_admin\r\n",
        "\r\n",
        "class Admin(User):\r\n",
        "    def __init__(self, name):\r\n",
        "        super().__init__(name, is_admin=True)\r\n",
        "\r\n",
        "class Customer(User):\r\n",
        "    def __init__(self, name):\r\n",
        "        super().__init__(name)\r\n",
        "        self.purchases = []\r\n",
        "\r\n",
        "class Vendor(User):\r\n",
        "    def __init__(self, name):\r\n",
        "        super().__init__(name)\r\n",
        "        self.products = []\r\n",
        "\r\n",
        "class Product:\r\n",
        "    def __init__(self, name, price, vendor):\r\n",
        "        self.name = name\r\n",
        "        self.price = price\r\n",
        "        self.vendor = vendor\r\n",
        "\r\n",
        "class Purchase:\r\n",
        "    def __init__(self, product, customer):\r\n",
        "        self.product = product\r\n",
        "        self.customer = customer\r\n",
        "        self.purchase_price = product.price\r\n",
        "        self.purchase_data = datetime.now()\r\n"
      ],
      "execution_count": null,
      "outputs": []
    },
    {
      "cell_type": "markdown",
      "metadata": {
        "id": "JRgv3IbhTY1J"
      },
      "source": [
        "Notice that the classes for Product and Purchase do not inherit from any other classes. They simply initialize the attributes that we came up with in our plan. One other thing to note is that because we needed to use datetime.now() method to populate our purchase_data attribute, we needed to import that module. We did that with the line at the top that reads from datetime import datetime."
      ]
    },
    {
      "cell_type": "code",
      "metadata": {
        "id": "4sF0Fp2b0fQh"
      },
      "source": [
        "from datetime import datetime\r\n",
        "\r\n",
        "class User:\r\n",
        "    def __init__(self, name, is_admin=False):\r\n",
        "        self.name = name\r\n",
        "        self.is_admin = is_admin\r\n",
        "\r\n",
        "class Admin(User):\r\n",
        "    def __init__(self, name):\r\n",
        "        super().__init__(name, is_admin=True)\r\n",
        "\r\n",
        "class Customer(User):\r\n",
        "    def __init__(self, name):\r\n",
        "        super().__init__(name)\r\n",
        "        self.purchases = []\r\n",
        "    def purchase_product(self, product):\r\n",
        "        purchase = Purchase(product, self)\r\n",
        "        self.purchases.append(purchase)\r\n",
        "\r\n",
        "class Vendor(User):\r\n",
        "    def __init__(self, name):\r\n",
        "        super().__init__(name)\r\n",
        "        self.products = []\r\n",
        "    def create_product(self, product_name, product_price):\r\n",
        "        product = Product(product_name, product_price, self)\r\n",
        "        self.products.append(product)\r\n",
        "\r\n",
        "class Product:\r\n",
        "    def __init__(self, name, price, vendor):\r\n",
        "        self.name = name\r\n",
        "        self.price = price\r\n",
        "        self.vendor = vendor\r\n",
        "\r\n",
        "class Purchase:\r\n",
        "    def __init__(self, product, customer):\r\n",
        "        self.product = product\r\n",
        "        self.customer = customer\r\n",
        "        self.purchase_price = product.price\r\n",
        "        self.purchase_data = datetime.now()\r\n",
        "        "
      ],
      "execution_count": null,
      "outputs": []
    },
    {
      "cell_type": "markdown",
      "metadata": {
        "id": "spahQKEsTjzN"
      },
      "source": [
        "Now, our Vendor class has a create_product method that will allow us to create products and store them with a specific Vendor instance. Our Customer class now has a purchase_product method that allows a Customer instance to make purchases and store records of those purchases on the instance."
      ]
    },
    {
      "cell_type": "markdown",
      "metadata": {
        "id": "5_Txc3OkUG58"
      },
      "source": [
        "**Intantiating a Class**\r\n",
        "\r\n",
        "Creating an instance of a class is as simple as typing the class name followed by a pair of parentheses. Even though it looks just like we are calling some function MyFirstClass(), we are actually calling the __init__() function that creates all of our class's attributes and assigns them their initial values. If we don't define our own, we inherit __init__() from the base Object class."
      ]
    },
    {
      "cell_type": "markdown",
      "metadata": {
        "id": "zABYoUgTUdN2"
      },
      "source": [
        "**__init__**\r\n",
        "\r\n",
        "The __init__ method is just like any other method except for its special name. The leading and trailing double underscores denote that this is a special method that the Python interpreter will treat as a special case.\r\n",
        "\r\n"
      ]
    },
    {
      "cell_type": "code",
      "metadata": {
        "id": "4scMj_RP0fGI"
      },
      "source": [
        "class Student:\r\n",
        "    def __init__(self, first_name, last_name):\r\n",
        "         self.first_name = first_name\r\n",
        "         self.last_name = last_name"
      ],
      "execution_count": null,
      "outputs": []
    },
    {
      "cell_type": "markdown",
      "metadata": {
        "id": "fd_cZC5-Upgq"
      },
      "source": [
        "All methods have one required argument. Conventionally, we name this argument self (although, in reality, we could name it anything we wanted). The self argument is simply a reference to the object that the method is being invoked on.  Whenever you define a class, the __init__ method is where you define the initialization behavior required to create a new instance of that class.  "
      ]
    },
    {
      "cell_type": "markdown",
      "metadata": {
        "id": "YEts_FwSU9ig"
      },
      "source": [
        "**__str__**\r\n",
        "\r\n",
        "The __str__ method is supposed to return a string representation of an object (which is useful for debugging).  When you print an object, Python calls the __str__ method to determine what to print out.  Whenever you are defining a new class, you should start by defining the __init__ method so you can instantiate objects. The next thing you should do is define the __str__ method so you have useful information for debugging. \r\n"
      ]
    },
    {
      "cell_type": "markdown",
      "metadata": {
        "id": "x1q0lycJVrWH"
      },
      "source": [
        "**__repr__**\r\n",
        "\r\n",
        "__repr__ is similar to __str__ in that it will return a printable representation of the object. However, with __repr__ it will return one of the ways possible to create the object. \r\n"
      ]
    },
    {
      "cell_type": "markdown",
      "metadata": {
        "id": "a7ZtxuuNWCYW"
      },
      "source": [
        "**private methods and variabes**\r\n",
        "\r\n",
        "prefixing a single underscore and the class name before the attribute name _Point__private_name. This is what name mangling is."
      ]
    },
    {
      "cell_type": "code",
      "metadata": {
        "colab": {
          "base_uri": "https://localhost:8080/",
          "height": 40
        },
        "id": "16xlyhUz0e55",
        "outputId": "2da4b0b9-e047-48c6-ff89-ac1ca32d1869"
      },
      "source": [
        "class Point:\r\n",
        "    def __init__(self, x, y):\r\n",
        "        self.x = x\r\n",
        "        self.y = y\r\n",
        "        self.__private_name = \"This is private.\"\r\n",
        "\r\n",
        "my_point = Point(1, 2)\r\n",
        "# my_point.__private_name\r\n",
        "# Traceback (most recent call last):\r\n",
        "#    File \"<stdin>\", line 1, in <module>\r\n",
        "# AttributeError: 'Point' object has no attribute '__private_name'\r\n",
        "my_point._Point__private_name\r\n",
        "#'This is private.'\r\n"
      ],
      "execution_count": null,
      "outputs": [
        {
          "output_type": "execute_result",
          "data": {
            "application/vnd.google.colaboratory.intrinsic+json": {
              "type": "string"
            },
            "text/plain": [
              "'This is private.'"
            ]
          },
          "metadata": {
            "tags": []
          },
          "execution_count": 1
        }
      ]
    },
    {
      "cell_type": "markdown",
      "metadata": {
        "id": "Few3zLqCWfsC"
      },
      "source": [
        "Maybe we want to prevent someone from setting an attribute to an empty string. We can do this in Python by defining \"private\" getter and setter methods and a \"private\" attribute on the class. Then, we can use the magic property keyword to wire up the getter and setter. "
      ]
    },
    {
      "cell_type": "code",
      "metadata": {
        "colab": {
          "base_uri": "https://localhost:8080/"
        },
        "id": "nabMlU-gWgXG",
        "outputId": "526d7cb6-e1f2-48c3-a549-74e95a546eaa"
      },
      "source": [
        "class Color:\r\n",
        "    def __init__(self, rgb_value, name):\r\n",
        "        self.rgb_value = rgb_value\r\n",
        "        self._name = name\r\n",
        "    \r\n",
        "    def _set_name(self, name):\r\n",
        "        if not name:\r\n",
        "            raise Exception(\"Invalid Name\")\r\n",
        "        self._name = name\r\n",
        "    \r\n",
        "    def _get_name(self):\r\n",
        "        return self._name\r\n",
        "\r\n",
        "    # allowing you use .name instead of _name\r\n",
        "    # even though it's protected and limited \r\n",
        "    # to use within this class and subclasses\r\n",
        "    name = property(_get_name, _set_name)\r\n",
        "\r\n",
        "c = Color(\"#0000ff\", \"bright red\")\r\n",
        "print(c.name)\r\n",
        "#bright red"
      ],
      "execution_count": null,
      "outputs": [
        {
          "output_type": "stream",
          "text": [
            "bright red\n"
          ],
          "name": "stdout"
        }
      ]
    },
    {
      "cell_type": "markdown",
      "metadata": {
        "id": "FkS_mes8ZGva"
      },
      "source": [
        "**variable scope in Python**\r\n",
        "\r\n",
        "In Python, we can remember the scope rules using the LEGB acronym.\r\n",
        "\r\n",
        "1.   Local - \r\n",
        "The Local scope will always be searched first and includes any variables assigned within a function.\r\n",
        "2.  Enclosing - \r\n",
        "Python allows functions to be nested. When searching for a variable, Python starts by looking in Local, and then searches the Enclosing scope.\r\n",
        "3.  Global - \r\n",
        "Global scope is search after Local and Enclosing. Global is the simplest to understand. A variable declared at the global level is not enclosed inside any function.\r\n",
        "\r\n",
        ">\r\n",
        ">global Keyword\r\n",
        ">\r\n",
        ">By stating that the x variable is global inside my_function, it can now be referenced in the global scope. However, that function must be called for this to take place.\r\n",
        "\r\n",
        "4.  Builtin - \r\n",
        "If a variable is not found in Local, Enclosing, or Global scope, then the builtin variables are searched.\r\n",
        "\r\n",
        "Note:  if, elif, or else blocks do not declare a new scope. The variable is defined in whatever scope the block itself is in. In the case below, y will be defined in the Global scope.  Also, the variables declared inside one of these blocks only exist if the block is entered. If the block is not entered, then that variable will not defined.  \r\n"
      ]
    },
    {
      "cell_type": "markdown",
      "metadata": {
        "id": "SjLt1yyr2Kng"
      },
      "source": [
        "**Instance vs. Class**\r\n",
        "\r\n",
        "Some attributes and methods are part of the class itself and some are part of the objects that are created using that class as a blueprint (instances).\r\n",
        "\r\n",
        "When looking at a class definition, if you see an initial self argument on a method, then you know that it is an instance method. The self keyword is referencing the object instance that was created from the class, not the class itself. \r\n",
        "\r\n",
        "A class method affects the class as a whole, not just the specific instance. Any change you make to the class (blueprint) affects all of the instances of that class.\r\n",
        "\r\n",
        "Within a class definition, a preceding @classmethod decorator indicates that the following function is a class method. Also, the first parameter to the method is the class itself. The Python tradition is to name this parameter cls (because class is a reserved keyword).\r\n",
        "\r\n"
      ]
    },
    {
      "cell_type": "code",
      "metadata": {
        "colab": {
          "base_uri": "https://localhost:8080/"
        },
        "id": "MtsV006x2AxQ",
        "outputId": "f1c53f35-5ef9-4e92-abc4-070d59a54431"
      },
      "source": [
        "class Counter():\r\n",
        "  \"\"\"\r\n",
        "  define a class Counter that has a class method \r\n",
        "  that will return the number of \r\n",
        "  instances that exist for that class\r\n",
        "  \"\"\"\r\n",
        "  count = 0\r\n",
        "  def __init__(self):\r\n",
        "    \"\"\"\r\n",
        "    initialization function;\r\n",
        "    incrementing count attribute on class \r\n",
        "    (not self.count, the instances)\r\n",
        "    \"\"\"\r\n",
        "    Counter.count += 1\r\n",
        "\r\n",
        "  def exclaim(self):\r\n",
        "    \"\"\"\r\n",
        "    simple instance method for debugging\r\n",
        "    \"\"\"\r\n",
        "    print(\"I'm a Counter!\")\r\n",
        "\r\n",
        "  @classmethod\r\n",
        "  def children(cls):\r\n",
        "  # Alternative: def children():\r\n",
        "    \"\"\"\r\n",
        "    function that returns the number \r\n",
        "    of instances that exist\r\n",
        "    for the Counter class\r\n",
        "    \"\"\"\r\n",
        "    print(f\"Counter class has {cls.count} instances that have been created\")\r\n",
        "    # Alternative:  print(f\"Counter class has {Counter.count} instances that have been created\")\r\n",
        "\r\n",
        "counter_one = Counter()\r\n",
        "counter_two = Counter()\r\n",
        "counter_three = Counter()\r\n",
        "Counter.children()\r\n",
        "# Counter class has 3 instances that have been created\r\n"
      ],
      "execution_count": null,
      "outputs": [
        {
          "output_type": "stream",
          "text": [
            "Counter class has 3 instances that have been created\n"
          ],
          "name": "stdout"
        }
      ]
    },
    {
      "cell_type": "code",
      "metadata": {
        "id": "Hxt8WTYt5qZp"
      },
      "source": [
        ""
      ],
      "execution_count": null,
      "outputs": []
    }
  ]
}